{
 "cells": [
  {
   "cell_type": "code",
   "execution_count": 34,
   "id": "506cf092",
   "metadata": {},
   "outputs": [
    {
     "data": {
      "text/plain": [
       "dict_keys(['data', 'target', 'frame', 'categories', 'feature_names', 'target_names', 'DESCR', 'details', 'url'])"
      ]
     },
     "execution_count": 34,
     "metadata": {},
     "output_type": "execute_result"
    }
   ],
   "source": [
    "# Classification\n",
    "# Source: \"Hands-on Machine Learning with Scikit-Learn, Keras & Tensorflow\" by Aurélien Géron\n",
    "# Chapter 3: Classification, code with notes"
   ]
  },
  {
   "cell_type": "markdown",
   "id": "2f101122",
   "metadata": {},
   "source": [
    "In this chapter, in order:\n",
    "- how to train binary classifiers (5s and not 5s)\n",
    "- choose the appropriate metric for your task\n",
    "- evaluate your classifiers using cross-validation\n",
    "- select the precision/recall tradeoff that fits your needs\n",
    "- use ROC curves and ROC AUC scores to compare various models\n",
    "- multiclass classification (detecting more than 5s)"
   ]
  },
  {
   "cell_type": "code",
   "execution_count": 118,
   "id": "7e542275",
   "metadata": {},
   "outputs": [
    {
     "data": {
      "text/plain": [
       "dict_keys(['data', 'target', 'frame', 'categories', 'feature_names', 'target_names', 'DESCR', 'details', 'url'])"
      ]
     },
     "execution_count": 118,
     "metadata": {},
     "output_type": "execute_result"
    }
   ],
   "source": [
    "%matplotlib inline\n",
    "\n",
    "import numpy as np\n",
    "\n",
    "# Enable printing of multiple outputs per code block\n",
    "# from IPython.core.interactiveshell import InteractiveShell\n",
    "# InteractiveShell.ast_node_interactivity = \"all\"\n",
    "\n",
    "# MNIST dataset (70,000 small images of digits handwritten by high school students and employees of the\n",
    "# U.S. Census Bureau) will be analyzed in this project.\n",
    "\n",
    "from sklearn.datasets import fetch_openml\n",
    "mnist = fetch_openml('mnist_784', version=1)\n",
    "mnist.keys()"
   ]
  },
  {
   "cell_type": "markdown",
   "id": "5ca10b88",
   "metadata": {},
   "source": [
    "Datasets loaded by Scikit-Learn have similar dictionary structures:\n",
    "DESCR key = describing the dataset\n",
    "data key = containing an array with one row per instance and one column feature\n",
    "target key = array with labels"
   ]
  },
  {
   "cell_type": "code",
   "execution_count": 5,
   "id": "b996a904",
   "metadata": {},
   "outputs": [
    {
     "data": {
      "text/plain": [
       "(70000, 784)"
      ]
     },
     "execution_count": 5,
     "metadata": {},
     "output_type": "execute_result"
    }
   ],
   "source": [
    "X, y = mnist[\"data\"], mnist[\"target\"]\n",
    "X.shape"
   ]
  },
  {
   "cell_type": "code",
   "execution_count": 7,
   "id": "61566f67",
   "metadata": {},
   "outputs": [
    {
     "data": {
      "text/plain": [
       "(70000,)"
      ]
     },
     "execution_count": 7,
     "metadata": {},
     "output_type": "execute_result"
    }
   ],
   "source": [
    "y.shape"
   ]
  },
  {
   "cell_type": "markdown",
   "id": "4e6a6bd0",
   "metadata": {},
   "source": [
    "There are 70,000 images and each image has 784 features.\n",
    "Each image is 28 x 28 pixels and each feature simply represents one pixel's intensity, from 0 (white) to 255 (block)."
   ]
  },
  {
   "cell_type": "code",
   "execution_count": 32,
   "id": "d55d6f65",
   "metadata": {},
   "outputs": [
    {
     "data": {
      "text/plain": [
       "(-0.5, 27.5, 27.5, -0.5)"
      ]
     },
     "execution_count": 32,
     "metadata": {},
     "output_type": "execute_result"
    },
    {
     "data": {
      "image/png": "[encoded data removed]",
      "text/plain": [
       "<Figure size 432x288 with 1 Axes>"
      ]
     },
     "metadata": {
      "needs_background": "light"
     },
     "output_type": "display_data"
    }
   ],
   "source": [
    "# Look at one digit from the dataset\n",
    "# Grab an instance's feature vector, reshape it to 28 x 28 array, and display using Matplotlib's imshow() function\n",
    "\n",
    "import matplotlib as mpl\n",
    "import matplotlib.pyplot as plt\n",
    "\n",
    "# iloc returns a series, to_numpy() converts this to NumPy array\n",
    "some_digit = X.iloc[0].to_numpy()\n",
    "some_digit_image = some_digit.reshape(28, 28)\n",
    "\n",
    "plt.imshow(some_digit_image, cmap=\"binary\")\n",
    "plt.axis(\"off\")"
   ]
  },
  {
   "cell_type": "code",
   "execution_count": 14,
   "id": "5028779b",
   "metadata": {},
   "outputs": [
    {
     "data": {
      "text/plain": [
       "'5'"
      ]
     },
     "execution_count": 14,
     "metadata": {},
     "output_type": "execute_result"
    }
   ],
   "source": [
    "# Above picture looks like a 5, and we can confirm in the corresponding value in y that this number is supposed to be a 5.\n",
    "y[0]"
   ]
  },
  {
   "cell_type": "code",
   "execution_count": 35,
   "id": "659f443f",
   "metadata": {},
   "outputs": [],
   "source": [
    "# Label above is a string while ML algorithms expect numbers. Cast y to an integer\n",
    "\n",
    "y = y.astype(np.uint8)"
   ]
  },
  {
   "cell_type": "code",
   "execution_count": 37,
   "id": "b5101249",
   "metadata": {},
   "outputs": [],
   "source": [
    "# Split data into training set and test set\n",
    "# MNIST is already split into training set (first 60,000 images) and test set (the last 10,000 images)\n",
    "\n",
    "X_train, X_test, y_train, y_test = X[:60000], X[60000:], y[:60000], y[60000:]"
   ]
  },
  {
   "cell_type": "markdown",
   "id": "c5bddee5",
   "metadata": {},
   "source": [
    "Moreover, training set is already shuffled. This is good for 2 reasons:\n",
    "- Guarantees that all cross-validation folds will be similar (don't want one fold to miss some digits).\n",
    "- Some learning algorithms will perform poorly if they get many similar instances in a row, since they are sensitive to the order of training instances."
   ]
  },
  {
   "cell_type": "code",
   "execution_count": 38,
   "id": "5a916226",
   "metadata": {},
   "outputs": [],
   "source": [
    "# TRAINING A BINARY CLASSIFIER\n",
    "# Binary classifer of 5 and not 5 (\"5-detector\")\n",
    "y_train_5 = (y_train == 5) # True for all 5s, False for all other digits\n",
    "y_test_5 = (y_test == 5)"
   ]
  },
  {
   "cell_type": "code",
   "execution_count": 39,
   "id": "35d1a566",
   "metadata": {},
   "outputs": [
    {
     "data": {
      "text/plain": [
       "SGDClassifier(random_state=42)"
      ]
     },
     "execution_count": 39,
     "metadata": {},
     "output_type": "execute_result"
    }
   ],
   "source": [
    "# Scikit-Learn's Stochastic Gradient Descent (SGD) classifier\n",
    "# SGDClassifier relies on randomness during training (hence the name \"stochastic\", random_state parameter used to replicate results)\n",
    "\n",
    "from sklearn.linear_model import SGDClassifier\n",
    "\n",
    "sgd_clf = SGDClassifier(random_state=42)\n",
    "sgd_clf.fit(X_train, y_train_5)"
   ]
  },
  {
   "cell_type": "code",
   "execution_count": 40,
   "id": "b16ad4b9",
   "metadata": {},
   "outputs": [
    {
     "data": {
      "text/plain": [
       "array([ True])"
      ]
     },
     "execution_count": 40,
     "metadata": {},
     "output_type": "execute_result"
    }
   ],
   "source": [
    "sgd_clf.predict([some_digit])"
   ]
  },
  {
   "cell_type": "markdown",
   "id": "fa40b9de",
   "metadata": {},
   "source": [
    "The True here means that the classifer guesses that this image represents a 5."
   ]
  },
  {
   "cell_type": "code",
   "execution_count": 45,
   "id": "5f489623",
   "metadata": {},
   "outputs": [
    {
     "data": {
      "text/plain": [
       "array([0.95035, 0.96035, 0.9604 ])"
      ]
     },
     "execution_count": 45,
     "metadata": {},
     "output_type": "execute_result"
    }
   ],
   "source": [
    "# PERFORMANCE MEASURES\n",
    "\n",
    "# Evaluating a model - CROSS-VALIDATION (accuracy)\n",
    "# Following code does the same thing as Scikit-Learn's cross_val_score() function.\n",
    "\n",
    "from sklearn.model_selection import StratifiedKFold\n",
    "from sklearn.base import clone\n",
    "\n",
    "# StratifiedKFold class performs stratified sampling that produces folds that contain a representative ratio of each class.\n",
    "# At each iteration, the code creates a clone of the classifier, trains that clone on the training folds, and makes predictions on test folds.\n",
    "# It counts the number of correct predictions and outputs the ratio of correct predictions.\n",
    "\n",
    "from sklearn.model_selection import cross_val_score\n",
    "cross_val_score(sgd_clf, X_train, y_train_5, cv=3, scoring=\"accuracy\") # cv=3 means 3 cross-validation folds."
   ]
  },
  {
   "cell_type": "markdown",
   "id": "1d197dac",
   "metadata": {},
   "source": [
    "Above 93% accuracy (ratio of correct predictions) on all cross-validation folds."
   ]
  },
  {
   "cell_type": "code",
   "execution_count": 46,
   "id": "ebe9692e",
   "metadata": {},
   "outputs": [],
   "source": [
    "# Evaluate the Not-5 Classifier\n",
    "\n",
    "from sklearn.base import BaseEstimator\n",
    "\n",
    "class Never5Classifier(BaseEstimator):\n",
    "    def fit(self, X, y=None):\n",
    "        return self\n",
    "    def predict(self, X):\n",
    "        return np.zeros((len(X), 1), dtype=bool)"
   ]
  },
  {
   "cell_type": "code",
   "execution_count": 47,
   "id": "1b928e12",
   "metadata": {},
   "outputs": [
    {
     "data": {
      "text/plain": [
       "array([0.91125, 0.90855, 0.90915])"
      ]
     },
     "execution_count": 47,
     "metadata": {},
     "output_type": "execute_result"
    }
   ],
   "source": [
    "never_5_clf = Never5Classifier()\n",
    "cross_val_score(never_5_clf, X_train, y_train_5, cv=3, scoring=\"accuracy\")"
   ]
  },
  {
   "cell_type": "markdown",
   "id": "ed7a73d9",
   "metadata": {},
   "source": [
    "The not-5 classifier also has over 90% accuracy on all folds. This is because only 10% of the images are 5s, so if you always guess that image is NOT a 5, you will be right 90% of the time.\n",
    "\n",
    "= Accuracy is generally NOT the preferred performance measures for classifiers, especially with SKEWED DATASETS."
   ]
  },
  {
   "cell_type": "markdown",
   "id": "c29091dd",
   "metadata": {},
   "source": [
    "CONFUSION MATRIX\n",
    "\n",
    "= A better way to evaluate the performance of classifier is to look at the confusion matrix.\n",
    "= Idea: count the number of times instance of class A is classified as class B."
   ]
  },
  {
   "cell_type": "code",
   "execution_count": 48,
   "id": "5101dd36",
   "metadata": {},
   "outputs": [],
   "source": [
    "from sklearn.model_selection import cross_val_predict\n",
    "\n",
    "y_train_pred = cross_val_predict(sgd_clf, X_train, y_train_5, cv=3)"
   ]
  },
  {
   "cell_type": "markdown",
   "id": "4ccd9b40",
   "metadata": {},
   "source": [
    "How does cross_val_predict differ in comparison to cross_val_score?\n",
    "\n",
    "- Both perform K-fold cross-validation\n",
    "- But cross_val_predict returns the predictions made on each test fold instead of returning evaluation scores\n",
    "- Get clean prediction (prediction made by model that never saw data during training) for each instance in training set"
   ]
  },
  {
   "cell_type": "code",
   "execution_count": 49,
   "id": "d7ac5a67",
   "metadata": {},
   "outputs": [
    {
     "data": {
      "text/plain": [
       "array([[53892,   687],\n",
       "       [ 1891,  3530]])"
      ]
     },
     "execution_count": 49,
     "metadata": {},
     "output_type": "execute_result"
    }
   ],
   "source": [
    "from sklearn.metrics import confusion_matrix\n",
    "\n",
    "# Confusion matrix - pass target classes (y_train_5) and the predicted classes (y_train_pred)\n",
    "confusion_matrix(y_train_5, y_train_pred)"
   ]
  },
  {
   "cell_type": "code",
   "execution_count": 50,
   "id": "a11f98a5",
   "metadata": {},
   "outputs": [
    {
     "data": {
      "text/plain": [
       "array([[54579,     0],\n",
       "       [    0,  5421]])"
      ]
     },
     "execution_count": 50,
     "metadata": {},
     "output_type": "execute_result"
    }
   ],
   "source": [
    "y_train_perfect_predictions = y_train_5 # pretend we reached perfection\n",
    "confusion_matrix(y_train_5, y_train_perfect_predictions)"
   ]
  },
  {
   "cell_type": "markdown",
   "id": "0460dfc4",
   "metadata": {},
   "source": [
    "CONFUSION MATRIX\n",
    "\n",
    "(Actual, Predicted)\n",
    "(N, N) = TN (True Negative)\n",
    "(P, N) = FN (False Negative)\n",
    "(N, P) = FP (False Positive)\n",
    "(T, P) = TP (True Positive)\n",
    "\n",
    "PRECISION: Accuracy of positive predictions\n",
    "Precision = (TP) / (TP + FP) \n",
    "\n",
    "RECALL (SENSITIVITY, TRUE POSITIVE RATE) : ratio of positive instances that are correctly detected by classifier\n",
    "Recall = (TP) / (TP + FN)\n",
    "\n",
    "Precision = Ratio of true positives among predictions that are claimed positive by the classifier\n",
    "Recall = Ratio of true positives detected by the classifier among positives"
   ]
  },
  {
   "cell_type": "code",
   "execution_count": 51,
   "id": "4e301d12",
   "metadata": {},
   "outputs": [
    {
     "data": {
      "text/plain": [
       "0.8370879772350012"
      ]
     },
     "execution_count": 51,
     "metadata": {},
     "output_type": "execute_result"
    }
   ],
   "source": [
    "from sklearn.metrics import precision_score, recall_score\n",
    "\n",
    "precision_score(y_train_5, y_train_pred)"
   ]
  },
  {
   "cell_type": "code",
   "execution_count": 52,
   "id": "05dbd446",
   "metadata": {},
   "outputs": [
    {
     "data": {
      "text/plain": [
       "0.6511713705958311"
      ]
     },
     "execution_count": 52,
     "metadata": {},
     "output_type": "execute_result"
    }
   ],
   "source": [
    "recall_score(y_train_5, y_train_pred)"
   ]
  },
  {
   "cell_type": "markdown",
   "id": "8d05906e",
   "metadata": {},
   "source": [
    "Unlike our 90% accuracy conclusion above, now the 5-detector does not look so accurate.\n",
    "The precision score is 0.837, which means that when the detector claims that the image represents a 5, it is truly a 5 83.7% of the time. Moreover, the recall score is 0.651, which means that only 65.1% of the true 5s are detected.\n",
    "\n",
    "F1 SCORE: COMBINE PRECISION AND RECALL INTO A SINGLE METRIC\n",
    "F1 score is the harmonic mean of precision and recall. Harmonic means give more weight to low values, which means that the classifier will only get a high F1 score when both recall and precision scores are high.\n",
    "\n",
    "F1 = 2 / ((1/precision) + (1/recall))"
   ]
  },
  {
   "cell_type": "code",
   "execution_count": 53,
   "id": "f5d27ed1",
   "metadata": {},
   "outputs": [
    {
     "data": {
      "text/plain": [
       "0.7325171197343846"
      ]
     },
     "execution_count": 53,
     "metadata": {},
     "output_type": "execute_result"
    }
   ],
   "source": [
    "# F1 score\n",
    "from sklearn.metrics import f1_score\n",
    "f1_score(y_train_5, y_train_pred)"
   ]
  },
  {
   "cell_type": "markdown",
   "id": "8dd14fa3",
   "metadata": {},
   "source": [
    "Note: F1 favors classifiers that have similar precision and recall. This might not always be ideal.\n",
    "For instance, if you trained a classifier to detect videos that are safe for kids, you would prefer classifier that rejects many good videos (low recall) but keeps only safe ones (high precision), rather than a classiier that has a higher recall but lets a few bad videos show up in your product.\n",
    "\n",
    "PRECISION/RECALL TRADEOFF: Increasing precision reduces recall, and vice versa."
   ]
  },
  {
   "cell_type": "code",
   "execution_count": 57,
   "id": "5bbb9de4",
   "metadata": {},
   "outputs": [
    {
     "data": {
      "text/plain": [
       "array([2164.22030239])"
      ]
     },
     "execution_count": 57,
     "metadata": {},
     "output_type": "execute_result"
    }
   ],
   "source": [
    "# Instead of calling the classifier predict() method, call decision_function() method (returns a score for each instance)\n",
    "y_scores = sgd_clf.decision_function([some_digit])\n",
    "y_scores"
   ]
  },
  {
   "cell_type": "code",
   "execution_count": 60,
   "id": "55329d3a",
   "metadata": {},
   "outputs": [
    {
     "data": {
      "text/plain": [
       "array([ True])"
      ]
     },
     "execution_count": 60,
     "metadata": {},
     "output_type": "execute_result"
    }
   ],
   "source": [
    "# SGDClassifier uses threshold equal to 0, so this code returns same result as predict() method\n",
    "threshold = 0\n",
    "y_some_digit_pred = (y_scores > threshold)\n",
    "y_some_digit_pred"
   ]
  },
  {
   "cell_type": "code",
   "execution_count": 61,
   "id": "0dd343b6",
   "metadata": {},
   "outputs": [
    {
     "data": {
      "text/plain": [
       "array([False])"
      ]
     },
     "execution_count": 61,
     "metadata": {},
     "output_type": "execute_result"
    }
   ],
   "source": [
    "# Raise the threshold\n",
    "threshold = 8000\n",
    "y_some_digit_pred = (y_scores > threshold)\n",
    "y_some_digit_pred"
   ]
  },
  {
   "cell_type": "markdown",
   "id": "427af07f",
   "metadata": {},
   "source": [
    "Raising the threshold DECREASES recall."
   ]
  },
  {
   "cell_type": "code",
   "execution_count": 65,
   "id": "674b0233",
   "metadata": {},
   "outputs": [],
   "source": [
    "y_scores = cross_val_predict(sgd_clf, X_train, y_train_5, cv=3, method=\"decision_function\")"
   ]
  },
  {
   "cell_type": "code",
   "execution_count": 72,
   "id": "adb8cfb3",
   "metadata": {},
   "outputs": [
    {
     "data": {
      "image/png": "[encoded data removed]",
      "text/plain": [
       "<Figure size 432x288 with 1 Axes>"
      ]
     },
     "metadata": {
      "needs_background": "light"
     },
     "output_type": "display_data"
    }
   ],
   "source": [
    "# Use precision-recall curve to compute precision/recall for all possible thresholds\n",
    "from sklearn.metrics import precision_recall_curve\n",
    "\n",
    "precisions, recalls, thresholds = precision_recall_curve(y_train_5, y_scores)\n",
    "\n",
    "# Use Matplotlib to plot precision and recall as functions of threshold value\n",
    "def plot_precision_recall_vs_threshold(precisions, recalls, thresholds):\n",
    "    plt.plot(thresholds, precisions[:-1], \"b--\", label=\"Precision\")\n",
    "    plt.plot(thresholds, recalls[:-1], \"g-\", label=\"Recall\")\n",
    "    plt.grid(color=\"darkgrey\", linestyle=\"-\", linewidth=0.8)\n",
    "    plt.legend(loc=\"best\")\n",
    "    plt.xlabel(\"Threshold\")\n",
    "\n",
    "plot_precision_recall_vs_threshold(precisions, recalls, thresholds)\n",
    "plt.show()"
   ]
  },
  {
   "cell_type": "code",
   "execution_count": 73,
   "id": "8b6b5bdf",
   "metadata": {},
   "outputs": [
    {
     "data": {
      "image/png": "[encoded data removed]",
      "text/plain": [
       "<Figure size 432x288 with 1 Axes>"
      ]
     },
     "metadata": {
      "needs_background": "light"
     },
     "output_type": "display_data"
    }
   ],
   "source": [
    "# Visualization: Precision vs. Recall Tradeoff\n",
    "plt.plot(recalls[:-1], precisions[:-1])\n",
    "plt.xlabel(\"Recall\")\n",
    "plt.ylabel(\"Precision\")\n",
    "plt.grid(color=\"darkgrey\", linewidth=0.8)"
   ]
  },
  {
   "cell_type": "markdown",
   "id": "2721f8c8",
   "metadata": {},
   "source": [
    "Precision starts to fall sharply around 80% recall, so may be ideal to select precision/recall tradeoff just before the drop."
   ]
  },
  {
   "cell_type": "code",
   "execution_count": 77,
   "id": "0a8022ce",
   "metadata": {},
   "outputs": [],
   "source": [
    "# If you aim for 90% precision and search for lowest threshold that gives you at least 90% precision\n",
    "# np.argmax() will give first index of maximum value, which means the first True value.\n",
    "\n",
    "threshold_90_precision = thresholds[np.argmax(precisions >= 0.90)]\n",
    "\n",
    "y_train_pred_90 = (y_scores >= threshold_90_precision)"
   ]
  },
  {
   "cell_type": "code",
   "execution_count": 75,
   "id": "81bf3b06",
   "metadata": {},
   "outputs": [
    {
     "data": {
      "text/plain": [
       "0.9000345901072293"
      ]
     },
     "execution_count": 75,
     "metadata": {},
     "output_type": "execute_result"
    }
   ],
   "source": [
    "precision_score(y_train_5, y_train_pred_90)"
   ]
  },
  {
   "cell_type": "code",
   "execution_count": 76,
   "id": "3216132c",
   "metadata": {},
   "outputs": [
    {
     "data": {
      "text/plain": [
       "0.4799852425751706"
      ]
     },
     "execution_count": 76,
     "metadata": {},
     "output_type": "execute_result"
    }
   ],
   "source": [
    "recall_score(y_train_5, y_train_pred_90)"
   ]
  },
  {
   "cell_type": "markdown",
   "id": "01bb2872",
   "metadata": {},
   "source": [
    "Now there is a 90% precision classifier, but high-precision classifier is not very useful if the recall is too low."
   ]
  },
  {
   "cell_type": "markdown",
   "id": "946d5c7a",
   "metadata": {},
   "source": [
    "ROC CURVE: RECEIVER OPERATING CHARACTERISTIC (ROC) CURVE\n",
    "- Another tool commonly used with binary classifiers.\n",
    "- Similar to precision/recall curve, but instead of plotting precision/recall\n",
    "- Instead plots TRUE POSITIVE RATE (=recall) against false positive rate (FPR)\n",
    "- FPR: ratio of negative instances that are incorrectly classified as positive\n",
    "- equal to 1 - true negative rate (TNR: ratio of negative instances that are correctly classified as negative)\n",
    "- TNR: also called specificity\n",
    "- ROC curve plots sensitivity (recall) versus 1 - specificity"
   ]
  },
  {
   "cell_type": "markdown",
   "id": "534e7be0",
   "metadata": {},
   "source": [
    "Compare classifiers - measure the AREA UNDER THE CURVE (AUC)\n",
    "- A perfect classifier will have ROC AUC equal to 1 (so ROC curve becoming closer to the top-left corner means that it is a better classifier)\n",
    "- A purely random classifier will have a ROC AUC equal to 0.5"
   ]
  },
  {
   "cell_type": "code",
   "execution_count": 96,
   "id": "80f5676f",
   "metadata": {},
   "outputs": [
    {
     "data": {
      "image/png": "[encoded data removed]",
      "text/plain": [
       "<Figure size 432x288 with 1 Axes>"
      ]
     },
     "metadata": {
      "needs_background": "light"
     },
     "output_type": "display_data"
    }
   ],
   "source": [
    "from sklearn.metrics import roc_curve\n",
    "\n",
    "fpr, tpr, thresholds = roc_curve(y_train_5, y_scores)\n",
    "\n",
    "def plot_roc_curve(fpr, tpr, label=None):\n",
    "    plt.plot(fpr, tpr, label=label)\n",
    "    plt.plot([0, 1], [0, 1], 'k--') # Dashed diagonal line from 0 to 1\n",
    "    plt.xlabel(\"False Positive Rate (FPR)\")\n",
    "    plt.ylabel(\"True Positive Rate (TPR; Recall)\")\n",
    "    plt.grid(color=\"darkgrey\", linewidth=0.8)\n",
    "    \n",
    "plot_roc_curve(fpr, tpr)\n",
    "plt.show() # this is optional"
   ]
  },
  {
   "cell_type": "markdown",
   "id": "87509065",
   "metadata": {},
   "source": [
    "ROC Curve plots false positive rate against true positive rate for all possible thresholds.\n",
    "Red circle highlights chosen ratio (at 43.68% recall)."
   ]
  },
  {
   "cell_type": "code",
   "execution_count": 88,
   "id": "271b2b5b",
   "metadata": {},
   "outputs": [
    {
     "data": {
      "text/plain": [
       "0.9604938554008616"
      ]
     },
     "execution_count": 88,
     "metadata": {},
     "output_type": "execute_result"
    }
   ],
   "source": [
    "from sklearn.metrics import roc_auc_score\n",
    "roc_auc_score(y_train_5, y_scores)"
   ]
  },
  {
   "cell_type": "code",
   "execution_count": 89,
   "id": "aa227824",
   "metadata": {},
   "outputs": [],
   "source": [
    "# Train Random Forest Classifier to compare its ROC curve and ROC AUC score with SGD Classifier\n",
    "from sklearn.ensemble import RandomForestClassifier\n",
    "\n",
    "forest_clf = RandomForestClassifier(random_state=42)\n",
    "y_probas_forest = cross_val_predict(forest_clf, X_train, y_train_5, cv=3, method=\"predict_proba\")"
   ]
  },
  {
   "cell_type": "code",
   "execution_count": 90,
   "id": "21323c11",
   "metadata": {},
   "outputs": [],
   "source": [
    "y_scores_forest = y_probas_forest[:, 1] # score = roba of positive class\n",
    "fpr_forest, tpr_forest, thresholds_forest = roc_curve(y_train_5, y_scores_forest)"
   ]
  },
  {
   "cell_type": "code",
   "execution_count": 98,
   "id": "43847b22",
   "metadata": {},
   "outputs": [
    {
     "data": {
      "image/png": "[encoded data removed]",
      "text/plain": [
       "<Figure size 432x288 with 1 Axes>"
      ]
     },
     "metadata": {
      "needs_background": "light"
     },
     "output_type": "display_data"
    }
   ],
   "source": [
    "plt.plot(fpr, tpr, \"b:\", label=\"SGD\")\n",
    "plot_roc_curve(fpr_forest, tpr_forest, \"Random Forest\")\n",
    "plt.legend(loc=\"lower right\")\n",
    "plt.title(\"ROC Curves of SGD, Random Forest\")\n",
    "plt.show()"
   ]
  },
  {
   "cell_type": "markdown",
   "id": "4adabb19",
   "metadata": {},
   "source": [
    "The Random Forest Classifier is superior to the SGD classifier because its ROC curve its much closer to the top-left corner, and it has a greater AUC."
   ]
  },
  {
   "cell_type": "code",
   "execution_count": 99,
   "id": "14627010",
   "metadata": {},
   "outputs": [
    {
     "data": {
      "text/plain": [
       "0.9983436731328145"
      ]
     },
     "execution_count": 99,
     "metadata": {},
     "output_type": "execute_result"
    }
   ],
   "source": [
    "# Compare scores directly \n",
    "roc_auc_score(y_train_5, y_scores_forest)"
   ]
  },
  {
   "cell_type": "markdown",
   "id": "3671fe7e",
   "metadata": {},
   "source": [
    "Random Forest has ROC AUC score higher than SGD Classifier."
   ]
  },
  {
   "cell_type": "code",
   "execution_count": 105,
   "id": "ea6a7c24",
   "metadata": {},
   "outputs": [],
   "source": [
    "# Random Forest precision score, recall score"
   ]
  },
  {
   "cell_type": "markdown",
   "id": "e9458cf2",
   "metadata": {},
   "source": [
    "MULTICLASS CLASSIFICATION\n",
    "\n",
    "Multiclass classifiers = multinomial classifiers\n",
    "- Some algorithms (SGD classifiers, Random Forest classifiers, naive Bayes classifiers) capable of handling multiple classes natively\n",
    "- Others (Logistic Regression, Support Vector Machine classifiers) are strictly binary classifiers\n",
    "\n",
    "Can use multiple binary classifiers to perform multiclass classification\n",
    "Objective: create system that can classify digit images into 10 classes (from 0 to 9)\n",
    "- One-versus-the-rest(OvR) strategy\n",
    "    - Train 10 binary classifiers, one for each digit.\n",
    "    - When you want to classify image, get detector score from each classifier (0 or 1, indicator variable)\n",
    "    - Select class whose classifier outputs the highest score.\n",
    "- One-versus-One (OvO) strategy\n",
    "    - Train binary classifier for every pair of digits\n",
    "    - Ex. one to distinguish 0s and 1s, another to distinguish 0s and 2s, another to distinguish 1s and 2s.\n",
    "    - If there are N classes, will need to train N * (N - 1) / 2 classifiers\n",
    "    - For the MNIST dataset, there are 10 digits 10 * 9 / 2 = 45 classifiers needed\n",
    "    - Each classifier only needs to be trained on the part of the training set for the two classes that it must distinguish\n",
    "- OvR or OvO?\n",
    "    - OvO preferred: Some algorithms (Support Vector Machine classifiers) scale poorly with the size of training set - OvO is faster to train many classifiers on small training sets than to train few classifiers on large training sets\n",
    "    - For most binary classification algorithms - OvR is preferred"
   ]
  },
  {
   "cell_type": "code",
   "execution_count": 106,
   "id": "33629c0c",
   "metadata": {},
   "outputs": [
    {
     "data": {
      "text/plain": [
       "array([5], dtype=uint8)"
      ]
     },
     "execution_count": 106,
     "metadata": {},
     "output_type": "execute_result"
    }
   ],
   "source": [
    "# Scikit-Learn detects when trying to use a binary classification algorithm + automatically runs OvR, OvO\n",
    "# Try with Support Vector Machine classifier\n",
    "\n",
    "from sklearn.svm import SVC\n",
    "svm_clf = SVC()\n",
    "svm_clf.fit(X_train, y_train)\n",
    "svm_clf.predict([some_digit])"
   ]
  },
  {
   "cell_type": "markdown",
   "id": "b493c95a",
   "metadata": {},
   "source": [
    "Code trains SVC on training set using original target classes from 0 to 9 (y_train) instead of the 5-versus-the-rest target classes (y_train_5).\n",
    "Used OvO strategy under the hood (trained 45 classifiers), got their decision scores for the image, and selected the class (5) that had the highest score."
   ]
  },
  {
   "cell_type": "code",
   "execution_count": 107,
   "id": "c58531f4",
   "metadata": {},
   "outputs": [
    {
     "data": {
      "text/plain": [
       "array([[ 1.72501977,  2.72809088,  7.2510018 ,  8.3076379 , -0.31087254,\n",
       "         9.3132482 ,  1.70975103,  2.76765202,  6.23049537,  4.84771048]])"
      ]
     },
     "execution_count": 107,
     "metadata": {},
     "output_type": "execute_result"
    }
   ],
   "source": [
    "# Call decision_function() to see individual scores\n",
    "some_digit_scores = svm_clf.decision_function([some_digit])\n",
    "some_digit_scores"
   ]
  },
  {
   "cell_type": "code",
   "execution_count": 110,
   "id": "21208e92",
   "metadata": {},
   "outputs": [
    {
     "data": {
      "text/plain": [
       "5"
      ]
     },
     "execution_count": 110,
     "metadata": {},
     "output_type": "execute_result"
    },
    {
     "data": {
      "text/plain": [
       "array([0, 1, 2, 3, 4, 5, 6, 7, 8, 9], dtype=uint8)"
      ]
     },
     "execution_count": 110,
     "metadata": {},
     "output_type": "execute_result"
    },
    {
     "data": {
      "text/plain": [
       "5"
      ]
     },
     "execution_count": 110,
     "metadata": {},
     "output_type": "execute_result"
    }
   ],
   "source": [
    "# Confirm that highest score corresponds to 5\n",
    "np.argmax(some_digit_scores)\n",
    "svm_clf.classes_\n",
    "svm_clf.classes_[5]"
   ]
  },
  {
   "cell_type": "markdown",
   "id": "f56d3143",
   "metadata": {},
   "source": [
    "When a classifier is trained, it stores the list of target classes in its classes_ attribute, ordered by value.\n",
    "In this case, classes_ array conveniently matches the class itself (class at index 5 happens to be class 5) but in most cases, this will not be true."
   ]
  },
  {
   "cell_type": "code",
   "execution_count": 111,
   "id": "364f8b34",
   "metadata": {},
   "outputs": [
    {
     "data": {
      "text/plain": [
       "OneVsRestClassifier(estimator=SVC())"
      ]
     },
     "execution_count": 111,
     "metadata": {},
     "output_type": "execute_result"
    }
   ],
   "source": [
    "# Make Scikit-Learn use either OvO or OvR - below example uses OvR\n",
    "# SVC\n",
    "from sklearn.multiclass import OneVsRestClassifier\n",
    "\n",
    "ovr_clf = OneVsRestClassifier(SVC())\n",
    "ovr_clf.fit(X_train, y_train)\n",
    "ovr_clf.predict([some_digit])\n",
    "len(ovr_clf.estimators_)"
   ]
  },
  {
   "cell_type": "code",
   "execution_count": 113,
   "id": "efbc0002",
   "metadata": {},
   "outputs": [
    {
     "data": {
      "text/plain": [
       "SGDClassifier(random_state=42)"
      ]
     },
     "execution_count": 113,
     "metadata": {},
     "output_type": "execute_result"
    },
    {
     "data": {
      "text/plain": [
       "array([3], dtype=uint8)"
      ]
     },
     "execution_count": 113,
     "metadata": {},
     "output_type": "execute_result"
    }
   ],
   "source": [
    "# Training SGD Classifier - did not have to run OvR or OvO because SGD can directly classify instances into multiple classes\n",
    "sgd_clf.fit(X_train, y_train)\n",
    "sgd_clf.predict([some_digit])"
   ]
  },
  {
   "cell_type": "code",
   "execution_count": 114,
   "id": "3e219e01",
   "metadata": {},
   "outputs": [
    {
     "data": {
      "text/plain": [
       "array([[-31893.03095419, -34419.69069632,  -9530.63950739,\n",
       "          1823.73154031, -22320.14822878,  -1385.80478895,\n",
       "        -26188.91070951, -16147.51323997,  -4604.35491274,\n",
       "        -12050.767298  ]])"
      ]
     },
     "execution_count": 114,
     "metadata": {},
     "output_type": "execute_result"
    }
   ],
   "source": [
    "# Examine scores that SGD Classifier assigned to each class\n",
    "sgd_clf.decision_function([some_digit])"
   ]
  },
  {
   "cell_type": "code",
   "execution_count": 112,
   "id": "da859e45",
   "metadata": {},
   "outputs": [
    {
     "data": {
      "text/plain": [
       "array([0.87365, 0.85835, 0.8689 ])"
      ]
     },
     "execution_count": 112,
     "metadata": {},
     "output_type": "execute_result"
    }
   ],
   "source": [
    "# Use cross_val_score() to evaluate SGDClassifier's accuracy\n",
    "cross_val_score(sgd_clf, X_train, y_train, cv=3, scoring=\"accuracy\")"
   ]
  },
  {
   "cell_type": "code",
   "execution_count": 115,
   "id": "da35a327",
   "metadata": {},
   "outputs": [
    {
     "data": {
      "text/plain": [
       "array([0.8983, 0.891 , 0.9018])"
      ]
     },
     "execution_count": 115,
     "metadata": {},
     "output_type": "execute_result"
    }
   ],
   "source": [
    "# Scale inputs to increase accuracy\n",
    "from sklearn.preprocessing import StandardScaler\n",
    "\n",
    "scaler = StandardScaler()\n",
    "X_train_scaled = scaler.fit_transform(X_train.astype(np.float64))\n",
    "cross_val_score(sgd_clf, X_train_scaled, y_train, cv=3, scoring=\"accuracy\")"
   ]
  },
  {
   "cell_type": "code",
   "execution_count": 119,
   "id": "15cf71f2",
   "metadata": {},
   "outputs": [
    {
     "data": {
      "text/plain": [
       "array([[5577,    0,   22,    5,    8,   43,   36,    6,  225,    1],\n",
       "       [   0, 6400,   37,   24,    4,   44,    4,    7,  212,   10],\n",
       "       [  27,   27, 5220,   92,   73,   27,   67,   36,  378,   11],\n",
       "       [  22,   17,  117, 5227,    2,  203,   27,   40,  403,   73],\n",
       "       [  12,   14,   41,    9, 5182,   12,   34,   27,  347,  164],\n",
       "       [  27,   15,   30,  168,   53, 4444,   75,   14,  535,   60],\n",
       "       [  30,   15,   42,    3,   44,   97, 5552,    3,  131,    1],\n",
       "       [  21,   10,   51,   30,   49,   12,    3, 5684,  195,  210],\n",
       "       [  17,   63,   48,   86,    3,  126,   25,   10, 5429,   44],\n",
       "       [  25,   18,   30,   64,  118,   36,    1,  179,  371, 5107]])"
      ]
     },
     "execution_count": 119,
     "metadata": {},
     "output_type": "execute_result"
    }
   ],
   "source": [
    "y_train_pred = cross_val_predict(sgd_clf, X_train_scaled, y_train , cv=3)\n",
    "conf_mx = confusion_matrix(y_train, y_train_pred)\n",
    "conf_mx"
   ]
  },
  {
   "cell_type": "code",
   "execution_count": 117,
   "id": "fe69c98c",
   "metadata": {},
   "outputs": [
    {
     "data": {
      "text/plain": [
       "<matplotlib.image.AxesImage at 0x7ff9de3a2490>"
      ]
     },
     "execution_count": 117,
     "metadata": {},
     "output_type": "execute_result"
    },
    {
     "data": {
      "image/png": "[encoded data removed]",
      "text/plain": [
       "<Figure size 288x288 with 1 Axes>"
      ]
     },
     "metadata": {
      "needs_background": "light"
     },
     "output_type": "display_data"
    }
   ],
   "source": [
    "# Image representation of confusion matrix\n",
    "plt.matshow(conf_mx, cmap=plt.cm.gray)\n",
    "plt.show()"
   ]
  },
  {
   "cell_type": "markdown",
   "id": "2c97de58",
   "metadata": {},
   "source": [
    "This confusion matrix is pretty good because most images are on the main diagonal, which means taht they were classified correctly. The 5s look slightly darker than other digits, which could mean that there are fewer images of 5s in the dataset or that the classifier does not perform as well on 5s as other digits."
   ]
  },
  {
   "cell_type": "code",
   "execution_count": null,
   "id": "ace13a28",
   "metadata": {},
   "outputs": [],
   "source": [
    "# Errors\n",
    "# Divide each value in the confusion matrix by number of images in the corresponding class to compare error rates\n",
    "row_sums = conf_mx.sum(axis=1, keepdims=True)\n",
    "# matrix created by dividing row_sums\n",
    "norm_conf_mx = conf_mx / row_sums"
   ]
  },
  {
   "cell_type": "code",
   "execution_count": null,
   "id": "ea718a23",
   "metadata": {},
   "outputs": [],
   "source": [
    "# Fill diagonal with zeros to keep only the errors, plot result\n",
    "np.fill_diagonal(norm_conf_mx, 0)\n",
    "plt.matshow(norm_conf_mx, cmap=plt.cm.gray)\n",
    "plt.show()"
   ]
  },
  {
   "cell_type": "code",
   "execution_count": 120,
   "id": "4c2d4011",
   "metadata": {},
   "outputs": [
    {
     "data": {
      "text/plain": [
       "<Figure size 576x576 with 0 Axes>"
      ]
     },
     "execution_count": 120,
     "metadata": {},
     "output_type": "execute_result"
    },
    {
     "data": {
      "text/plain": [
       "<AxesSubplot:>"
      ]
     },
     "execution_count": 120,
     "metadata": {},
     "output_type": "execute_result"
    },
    {
     "ename": "NameError",
     "evalue": "name 'plot_digits' is not defined",
     "output_type": "error",
     "traceback": [
      "\u001b[0;31m---------------------------------------------------------------------------\u001b[0m",
      "\u001b[0;31mNameError\u001b[0m                                 Traceback (most recent call last)",
      "\u001b[0;32m<ipython-input-120-12edd4f7d1a3>\u001b[0m in \u001b[0;36m<module>\u001b[0;34m\u001b[0m\n\u001b[1;32m      6\u001b[0m \u001b[0mX_bb\u001b[0m \u001b[0;34m=\u001b[0m \u001b[0mX_train\u001b[0m\u001b[0;34m[\u001b[0m\u001b[0;34m(\u001b[0m\u001b[0my_train\u001b[0m \u001b[0;34m==\u001b[0m \u001b[0mcl_b\u001b[0m\u001b[0;34m)\u001b[0m \u001b[0;34m&\u001b[0m \u001b[0;34m(\u001b[0m\u001b[0my_train_pred\u001b[0m \u001b[0;34m==\u001b[0m \u001b[0mcl_b\u001b[0m\u001b[0;34m)\u001b[0m\u001b[0;34m]\u001b[0m\u001b[0;34m\u001b[0m\u001b[0;34m\u001b[0m\u001b[0m\n\u001b[1;32m      7\u001b[0m \u001b[0mplt\u001b[0m\u001b[0;34m.\u001b[0m\u001b[0mfigure\u001b[0m\u001b[0;34m(\u001b[0m\u001b[0mfigsize\u001b[0m\u001b[0;34m=\u001b[0m\u001b[0;34m(\u001b[0m\u001b[0;36m8\u001b[0m\u001b[0;34m,\u001b[0m\u001b[0;36m8\u001b[0m\u001b[0;34m)\u001b[0m\u001b[0;34m)\u001b[0m\u001b[0;34m\u001b[0m\u001b[0;34m\u001b[0m\u001b[0m\n\u001b[0;32m----> 8\u001b[0;31m \u001b[0mplt\u001b[0m\u001b[0;34m.\u001b[0m\u001b[0msubplot\u001b[0m\u001b[0;34m(\u001b[0m\u001b[0;36m221\u001b[0m\u001b[0;34m)\u001b[0m\u001b[0;34m;\u001b[0m \u001b[0mplot_digits\u001b[0m\u001b[0;34m(\u001b[0m\u001b[0mX_aa\u001b[0m\u001b[0;34m[\u001b[0m\u001b[0;34m:\u001b[0m\u001b[0;36m25\u001b[0m\u001b[0;34m]\u001b[0m\u001b[0;34m,\u001b[0m \u001b[0mimages_per_row\u001b[0m\u001b[0;34m=\u001b[0m\u001b[0;36m5\u001b[0m\u001b[0;34m)\u001b[0m\u001b[0;34m\u001b[0m\u001b[0;34m\u001b[0m\u001b[0m\n\u001b[0m\u001b[1;32m      9\u001b[0m \u001b[0mplt\u001b[0m\u001b[0;34m.\u001b[0m\u001b[0msubplot\u001b[0m\u001b[0;34m(\u001b[0m\u001b[0;36m222\u001b[0m\u001b[0;34m)\u001b[0m\u001b[0;34m;\u001b[0m \u001b[0mplot_digits\u001b[0m\u001b[0;34m(\u001b[0m\u001b[0mX_ab\u001b[0m\u001b[0;34m[\u001b[0m\u001b[0;34m:\u001b[0m\u001b[0;36m25\u001b[0m\u001b[0;34m]\u001b[0m\u001b[0;34m,\u001b[0m \u001b[0mimages_per_row\u001b[0m\u001b[0;34m=\u001b[0m\u001b[0;36m5\u001b[0m\u001b[0;34m)\u001b[0m\u001b[0;34m\u001b[0m\u001b[0;34m\u001b[0m\u001b[0m\n\u001b[1;32m     10\u001b[0m \u001b[0mplt\u001b[0m\u001b[0;34m.\u001b[0m\u001b[0msubplot\u001b[0m\u001b[0;34m(\u001b[0m\u001b[0;36m223\u001b[0m\u001b[0;34m)\u001b[0m\u001b[0;34m;\u001b[0m \u001b[0mplot_digits\u001b[0m\u001b[0;34m(\u001b[0m\u001b[0mX_ba\u001b[0m\u001b[0;34m[\u001b[0m\u001b[0;34m:\u001b[0m\u001b[0;36m25\u001b[0m\u001b[0;34m]\u001b[0m\u001b[0;34m,\u001b[0m \u001b[0mimages_per_row\u001b[0m\u001b[0;34m=\u001b[0m\u001b[0;36m5\u001b[0m\u001b[0;34m)\u001b[0m\u001b[0;34m\u001b[0m\u001b[0;34m\u001b[0m\u001b[0m\n",
      "\u001b[0;31mNameError\u001b[0m: name 'plot_digits' is not defined"
     ]
    },
    {
     "data": {
      "image/png": "[encoded data removed]",
      "text/plain": [
       "<Figure size 576x576 with 1 Axes>"
      ]
     },
     "metadata": {
      "needs_background": "light"
     },
     "output_type": "display_data"
    }
   ],
   "source": [
    "# Analyzing individual errors - more difficult and time consuming\n",
    "# plot_digits uses Matplotlib's imshow() function\n",
    "cl_a, cl_b = 3, 5\n",
    "X_aa = X_train[(y_train == cl_a) & (y_train_pred == cl_a)]\n",
    "X_ab = X_train[(y_train == cl_a) & (y_train_pred == cl_b)]\n",
    "X_ba = X_train[(y_train == cl_b) & (y_train_pred == cl_a)]\n",
    "X_bb = X_train[(y_train == cl_b) & (y_train_pred == cl_b)]\n",
    "plt.figure(figsize=(8,8))\n",
    "plt.subplot(221); plot_digits(X_aa[:25], images_per_row=5)\n",
    "plt.subplot(222); plot_digits(X_ab[:25], images_per_row=5)\n",
    "plt.subplot(223); plot_digits(X_ba[:25], images_per_row=5)\n",
    "plt.subplot(224); plot_digits(X_bb[:25], images_per_row=5)"
   ]
  },
  {
   "cell_type": "markdown",
   "id": "972be1d4",
   "metadata": {},
   "source": [
    "Two 5 x 5 blocks on the left show digits classified as 3s, the two 5 x 5 blocks on the right show images classified as 5s. Most misclassified images seem like obvious errors. This is because we used SGDClassifier (linear model). It assigns weights per class to each pixel and when it sees a new image, sums up weighted pixel intensities to get a score for each class. Since 3s and 5s differ only by a few pixels, model will confuse them.\n",
    "\n",
    "Because of the shape of 3s and 5s, the classifier is sensitive to image shifting and rotation. So one way to reduce errors is to make sure that 3s and 5s are all well centered and not too rotated."
   ]
  },
  {
   "cell_type": "code",
   "execution_count": 121,
   "id": "01a7670d",
   "metadata": {},
   "outputs": [
    {
     "data": {
      "text/plain": [
       "KNeighborsClassifier()"
      ]
     },
     "execution_count": 121,
     "metadata": {},
     "output_type": "execute_result"
    }
   ],
   "source": [
    "# MULTILABEL CLASSIFICATION\n",
    "\n",
    "# Assign multiple classes for each instance (ex. face recognition classifier that sees multiple people)\n",
    "# Outputs multiple binary tags [1, 0, 1] = Alice yes, Bob no, Charlie yes\n",
    "\n",
    "from sklearn.neighbors import KNeighborsClassifier\n",
    "\n",
    "y_train_large = (y_train >= 7) # 7, 8 ,9\n",
    "y_train_odd = (y_train % 2 == 1) # odd (modulo 1)\n",
    "\n",
    "# y_multilabel array contains 2 target labels for each image\n",
    "# first indicates whether or not the digit is large (7, 8, 9) and the second indicates whether or not it is odd\n",
    "y_multilabel = np.c_[y_train_large, y_train_odd]\n",
    "\n",
    "# K Neighbors Classifier supports multilabel classification\n",
    "knn_clf = KNeighborsClassifier()\n",
    "knn_clf.fit(X_train, y_multilabel)"
   ]
  },
  {
   "cell_type": "code",
   "execution_count": 122,
   "id": "7d0c082d",
   "metadata": {},
   "outputs": [
    {
     "data": {
      "text/plain": [
       "array([[False,  True]])"
      ]
     },
     "execution_count": 122,
     "metadata": {},
     "output_type": "execute_result"
    }
   ],
   "source": [
    "# Digit 5 is not large (< 7; False) and odd (True)\n",
    "knn_clf.predict([some_digit])"
   ]
  },
  {
   "cell_type": "code",
   "execution_count": 123,
   "id": "7575ac31",
   "metadata": {},
   "outputs": [
    {
     "data": {
      "text/plain": [
       "0.976410265560605"
      ]
     },
     "execution_count": 123,
     "metadata": {},
     "output_type": "execute_result"
    }
   ],
   "source": [
    "# Evaluate a multilabel classifier - average F1 score\n",
    "y_train_knn_pred = cross_val_predict(knn_clf, X_train, y_multilabel, cv=3)\n",
    "f1_score(y_multilabel, y_train_knn_pred, average=\"macro\")"
   ]
  },
  {
   "cell_type": "markdown",
   "id": "b91d89a5",
   "metadata": {},
   "source": [
    "This assumes that all labels are equally important, but if there are more pictures of Alice to identify with the face recognition classifier, then would be more ideal to place more weight for Alice.\n",
    "Simple option\n",
    "- give each label a weight equal to support (the number of instances with that target label).\n",
    "- average=\"weighted\" in the above code"
   ]
  },
  {
   "cell_type": "markdown",
   "id": "ed6942d6",
   "metadata": {},
   "source": [
    "MULTIOUTPUT CLASSFICATION\n",
    "- also known as \"MULTIOUTPUT-MULTICLASS CLASSIFICATION\"\n",
    "- Example: build a system that removes noise from images\n",
    "- with Input: noisy digit image, Output: clean digit image, represented as an array of pixel intensities\n",
    "- This is a multioutput classification system because:\n",
    "    - Classifier's output is multilabel (one label per pixel)\n",
    "    - Each label can have multiple values (pixel intensity ranges from 0 to 255)."
   ]
  },
  {
   "cell_type": "code",
   "execution_count": 124,
   "id": "a7d540e2",
   "metadata": {},
   "outputs": [],
   "source": [
    "# Create training and test sets\n",
    "# Training sets: MNIST images with noise to their pixel intensities from NumPy's randint()\n",
    "# Test sets: original images\n",
    "\n",
    "noise = np.random.randint(0, 100, (len(X_train), 784))\n",
    "X_train_mod = X_train + noise\n",
    "noise = np.random.randint(0, 100, (len(X_train), 784))\n",
    "y_train_mod = X_train\n",
    "y_test_mod = X_test"
   ]
  },
  {
   "cell_type": "code",
   "execution_count": null,
   "id": "65890f3b",
   "metadata": {},
   "outputs": [],
   "source": [
    "knn_clf.fit(X_train_mod, y_train_mod)\n",
    "clean_digit = knn_clf.predict([X_test_mod[some_index]])\n",
    "plot_digit(clean_digit)"
   ]
  }
 ],
 "metadata": {
  "kernelspec": {
   "display_name": "Python 3",
   "language": "python",
   "name": "python3"
  },
  "language_info": {
   "codemirror_mode": {
    "name": "ipython",
    "version": 3
   },
   "file_extension": ".py",
   "mimetype": "text/x-python",
   "name": "python",
   "nbconvert_exporter": "python",
   "pygments_lexer": "ipython3",
   "version": "3.8.8"
  }
 },
 "nbformat": 4,
 "nbformat_minor": 5
}
