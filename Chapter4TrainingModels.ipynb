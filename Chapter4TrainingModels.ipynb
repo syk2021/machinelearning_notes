{
 "cells": [
  {
   "cell_type": "code",
   "execution_count": null,
   "id": "5608fec4",
   "metadata": {},
   "outputs": [],
   "source": [
    "# Training Models\n",
    "# Source: \"Hands-on Machine Learning with Scikit-Learn, Keras & Tensorflow\" by Aurélien Géron\n",
    "# Chapter 4: Classification, code with notes"
   ]
  },
  {
   "cell_type": "markdown",
   "id": "2db6563e",
   "metadata": {},
   "source": [
    "TRAINING A LINEAR REGRESSION MODEL\n",
    "- Direct \"closed-form\" equation: directly **computes** model parameters that best fit model to training set (model parameters that minimize the cost function over the training set)\n",
    "- Gradient Descent (GD) {Iterative optimization approach}: gradually **tweaks** model parameters to minimize cost function over the training set, eventually converging to the same set of parameters as first method"
   ]
  },
  {
   "cell_type": "markdown",
   "id": "e22a01fd",
   "metadata": {},
   "source": [
    "LINEAR REGRESSION\n",
    "- Find value of theta (parameter vector with bias parameter and feature weights) that minimizes the RMSE\n",
    "- Minimize MSE (mean squared error)\n",
    "\n",
    "NORMAL EQUATION\n",
    "- equation in book"
   ]
  },
  {
   "cell_type": "code",
   "execution_count": 20,
   "id": "45f4dabc",
   "metadata": {},
   "outputs": [],
   "source": [
    "%matplotlib inline\n",
    "import numpy as np\n",
    "import matplotlib.pyplot as plt\n",
    "\n",
    "# Enable printing of multiple outputs per code block\n",
    "from IPython.core.interactiveshell import InteractiveShell\n",
    "InteractiveShell.ast_node_interactivity = \"all\"\n",
    "\n",
    "X = 2 * np.random.rand(100, 1)\n",
    "y = 4 + 3 * X + np.random.randn(100,1) # y = 4 + 3x_1 + Gaussian noise"
   ]
  },
  {
   "cell_type": "code",
   "execution_count": 8,
   "id": "b8626212",
   "metadata": {},
   "outputs": [],
   "source": [
    "# Using NumPy's linear algebra module (np.linalg) to compute inverse of matrix, dot() method for matrix multiplication\n",
    "X_b = np.c_[np.ones((100, 1)), X] # add x0 = 1 to each instance\n",
    "theta_best = np.linalg.inv(X_b.T.dot(X_b)).dot(X_b.T).dot(y) # just the normal equation, page 114"
   ]
  },
  {
   "cell_type": "code",
   "execution_count": 9,
   "id": "20e3e8f2",
   "metadata": {},
   "outputs": [
    {
     "data": {
      "text/plain": [
       "array([[3.7436156 ],\n",
       "       [3.25473481]])"
      ]
     },
     "execution_count": 9,
     "metadata": {},
     "output_type": "execute_result"
    }
   ],
   "source": [
    "# The function we used to generate data: y = 4 + 3x_1 + Gaussian noise\n",
    "theta_best"
   ]
  },
  {
   "cell_type": "markdown",
   "id": "31d2cafa",
   "metadata": {},
   "source": [
    "Predicted value is 3.7436156 for theta_0 and 3.25473481 for theta_1 - the original parameters were 4 and 3, in order (noise makes it impossible to recover the original parameters directly)."
   ]
  },
  {
   "cell_type": "code",
   "execution_count": 10,
   "id": "64b558d2",
   "metadata": {},
   "outputs": [
    {
     "data": {
      "text/plain": [
       "array([[ 3.7436156 ],\n",
       "       [10.25308523]])"
      ]
     },
     "execution_count": 10,
     "metadata": {},
     "output_type": "execute_result"
    }
   ],
   "source": [
    "# Make y predictions using theta hat (found above).\n",
    "X_new = np.array([[0], [2]])\n",
    "X_new_b = np.c_[np.ones((2, 1)), X_new] # add x0 = 1 to each instance\n",
    "y_predict = X_new_b.dot(theta_best)\n",
    "y_predict"
   ]
  },
  {
   "cell_type": "code",
   "execution_count": 17,
   "id": "089b4854",
   "metadata": {},
   "outputs": [
    {
     "data": {
      "image/png": "[encoded data removed]",
      "text/plain": [
       "<Figure size 432x288 with 1 Axes>"
      ]
     },
     "metadata": {
      "needs_background": "light"
     },
     "output_type": "display_data"
    }
   ],
   "source": [
    "# Plot model's predictions\n",
    "plt.plot(X_new, y_predict, \"r-\", label=\"Predictions\")\n",
    "plt.plot(X, y, \"b.\")\n",
    "plt.axis([0, 2, 0, 15])\n",
    "plt.legend(loc=\"best\")\n",
    "plt.title(\"Linear Regression Model Predictions\")\n",
    "plt.xlabel(\"x_1\")\n",
    "plt.ylabel(\"y\")\n",
    "plt.show()"
   ]
  },
  {
   "cell_type": "code",
   "execution_count": 21,
   "id": "dbcd684c",
   "metadata": {},
   "outputs": [
    {
     "data": {
      "text/plain": [
       "LinearRegression()"
      ]
     },
     "execution_count": 21,
     "metadata": {},
     "output_type": "execute_result"
    },
    {
     "data": {
      "text/plain": [
       "(array([4.08182097]), array([[2.95928756]]))"
      ]
     },
     "execution_count": 21,
     "metadata": {},
     "output_type": "execute_result"
    },
    {
     "data": {
      "text/plain": [
       "array([[ 4.08182097],\n",
       "       [10.00039609]])"
      ]
     },
     "execution_count": 21,
     "metadata": {},
     "output_type": "execute_result"
    }
   ],
   "source": [
    "# Performing Linear Regression with Scikit-Learn\n",
    "from sklearn.linear_model import LinearRegression\n",
    "\n",
    "lin_reg = LinearRegression()\n",
    "lin_reg.fit(X, y)\n",
    "lin_reg.intercept_, lin_reg.coef_\n",
    "lin_reg.predict(X_new)"
   ]
  },
  {
   "cell_type": "code",
   "execution_count": 22,
   "id": "3b53c4c0",
   "metadata": {},
   "outputs": [
    {
     "data": {
      "text/plain": [
       "array([[ 7.28297192],\n",
       "       [-0.12350736]])"
      ]
     },
     "execution_count": 22,
     "metadata": {},
     "output_type": "execute_result"
    }
   ],
   "source": [
    "# LinearRegression class based on scipy.linalg.lstsq() function (least squares function)\n",
    "theta_best_svd, residuals, rank, s = np.linalg.lstsq(X_b, y, rcond=1e-6)\n",
    "theta_best_svd"
   ]
  },
  {
   "cell_type": "markdown",
   "id": "27b31b38",
   "metadata": {},
   "source": [
    "This function computes theta_hat = X+ y,  where X^+ is the pseudoinverse of X (Moore-Penrose inverse)\n",
    "Can use np.linalg.pinv() to compute pseudoinverse directly"
   ]
  },
  {
   "cell_type": "code",
   "execution_count": 23,
   "id": "93355eb1",
   "metadata": {},
   "outputs": [
    {
     "data": {
      "text/plain": [
       "array([[ 7.28297192],\n",
       "       [-0.12350736]])"
      ]
     },
     "execution_count": 23,
     "metadata": {},
     "output_type": "execute_result"
    }
   ],
   "source": [
    "np.linalg.pinv(X_b).dot(y)"
   ]
  },
  {
   "cell_type": "markdown",
   "id": "13cf8838",
   "metadata": {},
   "source": [
    "Pseudoinverse is computed using standard matrix factorization technique (Singular Value Decomposition - SVD) that can decompose training set matrix X into matrix multiplication of three matrices (numpy.linalg.svd())\n",
    "Pseudoinverse formula p.117\n",
    "\n",
    "Whereas the Normal Equation may not work if the matrix is not invertible (singular), the pseudo"
   ]
  },
  {
   "cell_type": "markdown",
   "id": "17e094e0",
   "metadata": {},
   "source": [
    "GRADIENT DESCENT\n",
    "\n",
    "Gradient Descent\n",
    "- generic optimization algorithm capable of finding optimal solutions to wide range of problems.\n",
    "- tweak parameters iteratively in order to minimize cost function (MSE)\n",
    "- measures the local gradient of the error function with regards to parameter vector theta + goes in direction of descending graident + once gradient = 0, have reached minimum\n",
    "\n",
    "Methodology\n",
    "- Random initialization: start by filling theta with random values \n",
    "- Improve it gradually, each step attempting to decrease the cost function\n",
    "- IMPORTANT PARAMETER: LEARNING RATE - size of steps\n",
    "\n",
    "MSE is a convex function\n",
    "- Gradient Descent is guaranteed to approach the global minimum\n",
    "\n",
    "Gradient Descent types\n",
    "- Batch Gradient Descent\n",
    "    - computes gradient at every step (on the full training set)\n",
    "    - slow when training set is large\n",
    "- Stochastic Gradient Descent\n",
    "    - picks a *random* instance in the training set at every step\n",
    "    - computes gradients based only on that single instance\n",
    "- Mini-batch Gradient Descent\n",
    "    - computes gradients on small random sets of instances called mini-batches\n",
    "\n",
    "To implement Gradient Descent:\n",
    "- compute the gradient of the cost function with regard to each model theta_j (partial derivative).\n",
    "- Gradient vector of the cost function: partial derivatives of MSE with respect to each theta parameter, from theta_0 to theta_n."
   ]
  },
  {
   "cell_type": "code",
   "execution_count": 24,
   "id": "4a9934cb",
   "metadata": {},
   "outputs": [
    {
     "data": {
      "text/plain": [
       "array([[ 7.28297192],\n",
       "       [-0.12350736]])"
      ]
     },
     "execution_count": 24,
     "metadata": {},
     "output_type": "execute_result"
    }
   ],
   "source": [
    "# Implementation of Gradient Descent\n",
    "\n",
    "eta = 0.1 # learning rate\n",
    "n_iterations = 1000\n",
    "m = 100\n",
    "\n",
    "theta = np.random.randn(2,1) # random initialization\n",
    "\n",
    "for iteration in range(n_iterations):\n",
    "    gradients = 2/m * X_b.T.dot(X_b.dot(theta) - y)\n",
    "    theta = theta - eta * gradients\n",
    "\n",
    "theta"
   ]
  },
  {
   "cell_type": "markdown",
   "id": "881211d5",
   "metadata": {},
   "source": [
    "This is the same result that the Normal Equation found."
   ]
  },
  {
   "cell_type": "code",
   "execution_count": 25,
   "id": "ec7efd67",
   "metadata": {},
   "outputs": [
    {
     "data": {
      "text/plain": [
       "array([[ 7.32400444],\n",
       "       [-0.11017664]])"
      ]
     },
     "execution_count": 25,
     "metadata": {},
     "output_type": "execute_result"
    }
   ],
   "source": [
    "# Stochastic Gradient Descent\n",
    "n_epochs = 50\n",
    "t0, t1 = 5, 50 # learning schedule hyperparameters\n",
    "\n",
    "def learning_schedule(t): \n",
    "    return t0 / (t + t1)\n",
    "\n",
    "theta = np.random.randn(2,1) # random initialization\n",
    "\n",
    "for epoch in range(n_epochs):\n",
    "    for i in range(m):\n",
    "        random_index = np.random.randint(m)\n",
    "        xi = X_b[random_index:random_index+1]\n",
    "        yi = y[random_index:random_index+1]\n",
    "        gradients = 2 * xi.T.dot(xi.dot(theta) - yi)\n",
    "        eta = learning_schedule(epoch * m + i)\n",
    "        theta = theta - eta * gradients\n",
    "        \n",
    "theta"
   ]
  },
  {
   "cell_type": "code",
   "execution_count": 27,
   "id": "9a1fb82a",
   "metadata": {},
   "outputs": [
    {
     "data": {
      "text/plain": [
       "SGDRegressor(eta0=0.1, penalty=None)"
      ]
     },
     "execution_count": 27,
     "metadata": {},
     "output_type": "execute_result"
    },
    {
     "data": {
      "text/plain": [
       "(array([4.1112078]), array([3.03539588]))"
      ]
     },
     "execution_count": 27,
     "metadata": {},
     "output_type": "execute_result"
    }
   ],
   "source": [
    "# Perform Linear Regression using Stochastic GD with Scikit-Learn\n",
    "\n",
    "from sklearn.linear_model import SGDRegressor\n",
    "sgd_reg = SGDRegressor(max_iter=1000, tol=1e-3, penalty=None, eta0=0.1)\n",
    "sgd_reg.fit(X, y.ravel())\n",
    "\n",
    "sgd_reg.intercept_, sgd_reg.coef_"
   ]
  },
  {
   "cell_type": "markdown",
   "id": "5fdd3b28",
   "metadata": {},
   "source": [
    "Mini-batch Gradient descent\n",
    "- less erratic thant with Stochastic GD, especially with fairly large mini-batches\n",
    "- Mini-batch GD will go closer to the minimum that Stochastic GD\n",
    "- Batch GD actually stops at the minimum, while BOTH Stochastic GD, Mini-batch GD continue to walk around\n",
    "- Batch GD takes a lot of time to take each step => Stochastic GD, Mini-batch GD would also reach minimum if good learning schedule"
   ]
  },
  {
   "cell_type": "markdown",
   "id": "8c4b8119",
   "metadata": {},
   "source": [
    "LEARNING CURVES\n",
    "\n",
    "If you perform high-degree Polynomial Regression, will fit training data much better than with plain Linear Regression. This high-degree Regression model will overfit the data.\n",
    "\n",
    "How to tell if model is overfitting/underfitting data:\n",
    "- Cross-validation\n",
    "    - estimate of model's generalization performance\n",
    "    - if model performs well on training data, but poorly on cross-validation metrics: overfitting data\n",
    "- Learning curves\n",
    "    - LEARNING CURVES: plots of model's performance on training set, validation set as function of training set size (training iteration)\n",
    "    - Functions: performance on training set, validation set\n",
    "    - Horizontal axis: Training set size\n",
    "    - Vertical axis: RMSE"
   ]
  },
  {
   "cell_type": "code",
   "execution_count": 29,
   "id": "80000765",
   "metadata": {},
   "outputs": [
    {
     "data": {
      "image/png": "[encoded data removed]",
      "text/plain": [
       "<Figure size 432x288 with 1 Axes>"
      ]
     },
     "metadata": {
      "needs_background": "light"
     },
     "output_type": "display_data"
    }
   ],
   "source": [
    "# Learning Curves of the Plain Linear Regression Model\n",
    "\n",
    "from sklearn.metrics import mean_squared_error\n",
    "from sklearn.model_selection import train_test_split\n",
    "\n",
    "def plot_learning_curves(model, X, y):\n",
    "    X_train, X_val, y_train, y_val = train_test_split(X, y , test_size=0.2)\n",
    "    train_errors, val_errors = [], []\n",
    "    for m in range(1, len(X_train)):\n",
    "        model.fit(X_train[:m], y_train[:m])\n",
    "        y_train_predict = model.predict(X_train[:m])\n",
    "        y_val_predict = model.predict(X_val)\n",
    "        train_errors.append(mean_squared_error(y_train[:m], y_train_predict))\n",
    "        val_errors.append(mean_squared_error(y_val, y_val_predict))\n",
    "    # sqrt because plotting RMSE in vertical axis\n",
    "    plt.plot(np.sqrt(train_errors), \"r-+\", linewidth=2, label=\"train\")\n",
    "    plt.plot(np.sqrt(val_errors), \"b-\", linewidth=3, label=\"val\")\n",
    "    plt.xlabel(\"Training set size\")\n",
    "    plt.ylabel(\"RMSE\")\n",
    "    plt.legend(loc=\"best\")\n",
    "\n",
    "lin_reg = LinearRegression()\n",
    "plot_learning_curves(lin_reg, X, y)"
   ]
  },
  {
   "cell_type": "markdown",
   "id": "43f41b8f",
   "metadata": {},
   "source": []
  },
  {
   "cell_type": "code",
   "execution_count": 30,
   "id": "eba36c72",
   "metadata": {},
   "outputs": [
    {
     "ename": "NameError",
     "evalue": "name 'PolynomialFeatures' is not defined",
     "output_type": "error",
     "traceback": [
      "\u001b[0;31m---------------------------------------------------------------------------\u001b[0m",
      "\u001b[0;31mNameError\u001b[0m                                 Traceback (most recent call last)",
      "\u001b[0;32m<ipython-input-30-837cf6f05fcd>\u001b[0m in \u001b[0;36m<module>\u001b[0;34m\u001b[0m\n\u001b[1;32m      4\u001b[0m \u001b[0;34m\u001b[0m\u001b[0m\n\u001b[1;32m      5\u001b[0m polynomial_regression = Pipeline([\n\u001b[0;32m----> 6\u001b[0;31m     \u001b[0;34m(\u001b[0m\u001b[0;34m\"poly_features\"\u001b[0m\u001b[0;34m,\u001b[0m \u001b[0mPolynomialFeatures\u001b[0m\u001b[0;34m(\u001b[0m\u001b[0mdegree\u001b[0m\u001b[0;34m=\u001b[0m\u001b[0;36m10\u001b[0m\u001b[0;34m,\u001b[0m \u001b[0minclude_bias\u001b[0m\u001b[0;34m=\u001b[0m\u001b[0;32mFalse\u001b[0m\u001b[0;34m)\u001b[0m\u001b[0;34m)\u001b[0m\u001b[0;34m,\u001b[0m\u001b[0;34m\u001b[0m\u001b[0;34m\u001b[0m\u001b[0m\n\u001b[0m\u001b[1;32m      7\u001b[0m     \u001b[0;34m(\u001b[0m\u001b[0;34m\"lin_reg\"\u001b[0m\u001b[0;34m,\u001b[0m \u001b[0mLinearRegression\u001b[0m\u001b[0;34m(\u001b[0m\u001b[0;34m)\u001b[0m\u001b[0;34m)\u001b[0m\u001b[0;34m,\u001b[0m\u001b[0;34m\u001b[0m\u001b[0;34m\u001b[0m\u001b[0m\n\u001b[1;32m      8\u001b[0m ])\n",
      "\u001b[0;31mNameError\u001b[0m: name 'PolynomialFeatures' is not defined"
     ]
    }
   ],
   "source": [
    "# Learning Curves of the 10th Degree Polynomial Model\n",
    "\n",
    "from sklearn.pipeline import Pipeline\n",
    "\n",
    "polynomial_regression = Pipeline([\n",
    "    (\"poly_features\", PolynomialFeatures(degree=10, include_bias=False)),\n",
    "    (\"lin_reg\", LinearRegression()),\n",
    "])\n",
    "\n",
    "plot_learning_curves(polynomial_regression, X, y)"
   ]
  },
  {
   "cell_type": "code",
   "execution_count": 32,
   "id": "cba6e21a",
   "metadata": {},
   "outputs": [
    {
     "data": {
      "text/plain": [
       "['data',\n",
       " 'target',\n",
       " 'frame',\n",
       " 'target_names',\n",
       " 'DESCR',\n",
       " 'feature_names',\n",
       " 'filename']"
      ]
     },
     "execution_count": 32,
     "metadata": {},
     "output_type": "execute_result"
    }
   ],
   "source": [
    "# Decision Boundaries with Iris dataset in Scikit-Learn\n",
    "\n",
    "from sklearn import datasets\n",
    "iris = datasets.load_iris()\n",
    "list(iris.keys())"
   ]
  },
  {
   "cell_type": "code",
   "execution_count": 34,
   "id": "b3400c4b",
   "metadata": {},
   "outputs": [],
   "source": [
    "# Build classifier to detect Iris virigina type based only on the width feature\n",
    "X = iris[\"data\"][:, 3:] # petal width\n",
    "y = (iris[\"target\"] == 2).astype(int) # 1 if Iris virginica, else 0"
   ]
  },
  {
   "cell_type": "code",
   "execution_count": 36,
   "id": "e81e4041",
   "metadata": {},
   "outputs": [
    {
     "data": {
      "text/plain": [
       "LogisticRegression()"
      ]
     },
     "execution_count": 36,
     "metadata": {},
     "output_type": "execute_result"
    }
   ],
   "source": [
    "# Train Logistic Regression Model\n",
    "from sklearn.linear_model import LogisticRegression\n",
    "\n",
    "log_reg = LogisticRegression()\n",
    "log_reg.fit(X, y)"
   ]
  },
  {
   "cell_type": "code",
   "execution_count": 37,
   "id": "f4f54bcd",
   "metadata": {},
   "outputs": [
    {
     "data": {
      "text/plain": [
       "[<matplotlib.lines.Line2D at 0x7fa7b00e1cd0>]"
      ]
     },
     "execution_count": 37,
     "metadata": {},
     "output_type": "execute_result"
    },
    {
     "data": {
      "text/plain": [
       "[<matplotlib.lines.Line2D at 0x7fa7b00f00d0>]"
      ]
     },
     "execution_count": 37,
     "metadata": {},
     "output_type": "execute_result"
    },
    {
     "data": {
      "text/plain": [
       "Text(0.5, 0, 'Petal width (cm)')"
      ]
     },
     "execution_count": 37,
     "metadata": {},
     "output_type": "execute_result"
    },
    {
     "data": {
      "text/plain": [
       "Text(0, 0.5, 'Probability')"
      ]
     },
     "execution_count": 37,
     "metadata": {},
     "output_type": "execute_result"
    },
    {
     "data": {
      "text/plain": [
       "<matplotlib.legend.Legend at 0x7fa7b808bd30>"
      ]
     },
     "execution_count": 37,
     "metadata": {},
     "output_type": "execute_result"
    },
    {
     "data": {
      "image/png": "[encoded data removed]",
      "text/plain": [
       "<Figure size 432x288 with 1 Axes>"
      ]
     },
     "metadata": {
      "needs_background": "light"
     },
     "output_type": "display_data"
    }
   ],
   "source": [
    "# Look at model's estimated probabilities for flowers with petal widths from 0cm to 3cm\n",
    "X_new = np.linspace(0, 3, 1000).reshape(-1, 1)\n",
    "y_proba = log_reg.predict_proba(X_new)\n",
    "plt.plot(X_new, y_proba[:, 1], \"g-\", label=\"Iris virginica\") # 1 if Iris virginica\n",
    "plt.plot(X_new, y_proba[:, 0], \"b--\", label=\"Not Iris virginica\") # 0 if not Iris virginica\n",
    "plt.xlabel(\"Petal width (cm)\")\n",
    "plt.ylabel(\"Probability\")\n",
    "plt.legend(loc=\"best\")"
   ]
  },
  {
   "cell_type": "code",
   "execution_count": 38,
   "id": "b27f5119",
   "metadata": {},
   "outputs": [
    {
     "data": {
      "text/plain": [
       "LogisticRegression(C=10, multi_class='multinomial')"
      ]
     },
     "execution_count": 38,
     "metadata": {},
     "output_type": "execute_result"
    }
   ],
   "source": [
    "# Softmax Regression (Multinomial Logistic Regression)\n",
    "X = iris[\"data\"][:, (2,3)] # petal length, petal width\n",
    "y = iris[\"target\"]\n",
    "\n",
    "softmax_reg = LogisticRegression(multi_class=\"multinomial\", solver=\"lbfgs\", C=10)\n",
    "softmax_reg.fit(X,y)"
   ]
  },
  {
   "cell_type": "code",
   "execution_count": 39,
   "id": "02aed791",
   "metadata": {},
   "outputs": [
    {
     "data": {
      "text/plain": [
       "array([2])"
      ]
     },
     "execution_count": 39,
     "metadata": {},
     "output_type": "execute_result"
    },
    {
     "data": {
      "text/plain": [
       "array([[6.38014896e-07, 5.74929995e-02, 9.42506362e-01]])"
      ]
     },
     "execution_count": 39,
     "metadata": {},
     "output_type": "execute_result"
    }
   ],
   "source": [
    "softmax_reg.predict([[5, 2]])\n",
    "softmax_reg.predict_proba([[5, 2]])"
   ]
  },
  {
   "cell_type": "code",
   "execution_count": null,
   "id": "86f50586",
   "metadata": {},
   "outputs": [],
   "source": []
  }
 ],
 "metadata": {
  "kernelspec": {
   "display_name": "Python 3",
   "language": "python",
   "name": "python3"
  },
  "language_info": {
   "codemirror_mode": {
    "name": "ipython",
    "version": 3
   },
   "file_extension": ".py",
   "mimetype": "text/x-python",
   "name": "python",
   "nbconvert_exporter": "python",
   "pygments_lexer": "ipython3",
   "version": "3.8.8"
  }
 },
 "nbformat": 4,
 "nbformat_minor": 5
}
